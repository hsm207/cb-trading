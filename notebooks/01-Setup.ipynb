{
 "cells": [
  {
   "cell_type": "markdown",
   "metadata": {
    "toc": true
   },
   "source": [
    "<h1>Table of Contents<span class=\"tocSkip\"></span></h1>\n",
    "<div class=\"toc\" style=\"margin-top: 1em;\"><ul class=\"toc-item\"><li><span><a href=\"#Introduction\" data-toc-modified-id=\"Introduction-1\"><span class=\"toc-item-num\">1&nbsp;&nbsp;</span>Introduction</a></span></li><li><span><a href=\"#System-information\" data-toc-modified-id=\"System-information-2\"><span class=\"toc-item-num\">2&nbsp;&nbsp;</span>System information</a></span></li><li><span><a href=\"#Install-Dependencies\" data-toc-modified-id=\"Install-Dependencies-3\"><span class=\"toc-item-num\">3&nbsp;&nbsp;</span>Install Dependencies</a></span></li></ul></div>"
   ]
  },
  {
   "cell_type": "markdown",
   "metadata": {
    "collapsed": true
   },
   "source": [
    "# Introduction\n"
   ]
  },
  {
   "cell_type": "markdown",
   "metadata": {},
   "source": [
    "This notebook install some libraries to run the analysis and experiments."
   ]
  },
  {
   "cell_type": "markdown",
   "metadata": {},
   "source": [
    "# System information"
   ]
  },
  {
   "cell_type": "code",
   "execution_count": 1,
   "metadata": {},
   "outputs": [
    {
     "name": "stdout",
     "output_type": "stream",
     "text": [
      "No LSB modules are available.\r\n",
      "Distributor ID:\tUbuntu\r\n",
      "Description:\tUbuntu 18.04.3 LTS\r\n",
      "Release:\t18.04\r\n",
      "Codename:\tbionic\r\n"
     ]
    }
   ],
   "source": [
    "!sudo lsb_release -a"
   ]
  },
  {
   "cell_type": "code",
   "execution_count": 2,
   "metadata": {},
   "outputs": [
    {
     "name": "stdout",
     "output_type": "stream",
     "text": [
      "Python 3.6.6 :: Anaconda, Inc.\r\n"
     ]
    }
   ],
   "source": [
    "!python -V"
   ]
  },
  {
   "cell_type": "code",
   "execution_count": 3,
   "metadata": {},
   "outputs": [
    {
     "name": "stdout",
     "output_type": "stream",
     "text": [
      "# conda environments:\r\n",
      "#\r\n",
      "base                     /home/ubuntu/anaconda3\r\n",
      "chainer_p27              /home/ubuntu/anaconda3/envs/chainer_p27\r\n",
      "chainer_p36              /home/ubuntu/anaconda3/envs/chainer_p36\r\n",
      "mxnet_p27                /home/ubuntu/anaconda3/envs/mxnet_p27\r\n",
      "mxnet_p36                /home/ubuntu/anaconda3/envs/mxnet_p36\r\n",
      "python2                  /home/ubuntu/anaconda3/envs/python2\r\n",
      "python3               *  /home/ubuntu/anaconda3/envs/python3\r\n",
      "pytorch_p27              /home/ubuntu/anaconda3/envs/pytorch_p27\r\n",
      "pytorch_p36              /home/ubuntu/anaconda3/envs/pytorch_p36\r\n",
      "tensorflow_p27           /home/ubuntu/anaconda3/envs/tensorflow_p27\r\n",
      "tensorflow_p36           /home/ubuntu/anaconda3/envs/tensorflow_p36\r\n",
      "\r\n"
     ]
    }
   ],
   "source": [
    "!conda env list"
   ]
  },
  {
   "cell_type": "markdown",
   "metadata": {},
   "source": [
    "# Install Dependencies"
   ]
  },
  {
   "cell_type": "code",
   "execution_count": 4,
   "metadata": {},
   "outputs": [
    {
     "name": "stdout",
     "output_type": "stream",
     "text": [
      "Collecting pyarrow\n",
      "\u001b[?25l  Downloading https://files.pythonhosted.org/packages/6c/32/ce1926f05679ea5448fd3b98fbd9419d8c7a65f87d1a12ee5fb9577e3a8e/pyarrow-0.15.1-cp36-cp36m-manylinux2010_x86_64.whl (59.2MB)\n",
      "\u001b[K     |████████████████████████████████| 59.2MB 64.8MB/s eta 0:00:01\n",
      "\u001b[?25hCollecting pyfolio\n",
      "Collecting vowpalwabbit\n",
      "Requirement already satisfied: six>=1.0.0 in /home/ubuntu/anaconda3/lib/python3.6/site-packages (from pyarrow) (1.12.0)\n",
      "Requirement already satisfied: numpy>=1.14 in /home/ubuntu/anaconda3/lib/python3.6/site-packages (from pyarrow) (1.16.4)\n",
      "Requirement already satisfied: ipython>=3.2.3 in /home/ubuntu/anaconda3/lib/python3.6/site-packages (from pyfolio) (6.4.0)\n",
      "Collecting empyrical>=0.5.0 (from pyfolio)\n",
      "Requirement already satisfied: seaborn>=0.7.1 in /home/ubuntu/anaconda3/lib/python3.6/site-packages (from pyfolio) (0.8.1)\n",
      "Requirement already satisfied: scipy>=0.14.0 in /home/ubuntu/anaconda3/lib/python3.6/site-packages (from pyfolio) (1.3.1)\n",
      "Requirement already satisfied: pytz>=2014.10 in /home/ubuntu/anaconda3/lib/python3.6/site-packages (from pyfolio) (2018.4)\n",
      "Requirement already satisfied: pandas>=0.18.1 in /home/ubuntu/anaconda3/lib/python3.6/site-packages (from pyfolio) (0.24.2)\n",
      "Requirement already satisfied: scikit-learn>=0.16.1 in /home/ubuntu/anaconda3/lib/python3.6/site-packages (from pyfolio) (0.21.3)\n",
      "Requirement already satisfied: matplotlib>=1.4.0 in /home/ubuntu/anaconda3/lib/python3.6/site-packages (from pyfolio) (2.2.2)\n",
      "Requirement already satisfied: traitlets>=4.2 in /home/ubuntu/anaconda3/lib/python3.6/site-packages (from ipython>=3.2.3->pyfolio) (4.3.2)\n",
      "Requirement already satisfied: pickleshare in /home/ubuntu/anaconda3/lib/python3.6/site-packages (from ipython>=3.2.3->pyfolio) (0.7.4)\n",
      "Requirement already satisfied: prompt-toolkit<2.0.0,>=1.0.15 in /home/ubuntu/anaconda3/lib/python3.6/site-packages (from ipython>=3.2.3->pyfolio) (1.0.15)\n",
      "Requirement already satisfied: simplegeneric>0.8 in /home/ubuntu/anaconda3/lib/python3.6/site-packages (from ipython>=3.2.3->pyfolio) (0.8.1)\n",
      "Requirement already satisfied: pygments in /home/ubuntu/anaconda3/lib/python3.6/site-packages (from ipython>=3.2.3->pyfolio) (2.2.0)\n",
      "Requirement already satisfied: backcall in /home/ubuntu/anaconda3/lib/python3.6/site-packages (from ipython>=3.2.3->pyfolio) (0.1.0)\n",
      "Requirement already satisfied: pexpect; sys_platform != \"win32\" in /home/ubuntu/anaconda3/lib/python3.6/site-packages (from ipython>=3.2.3->pyfolio) (4.5.0)\n",
      "Requirement already satisfied: decorator in /home/ubuntu/anaconda3/lib/python3.6/site-packages (from ipython>=3.2.3->pyfolio) (4.3.0)\n",
      "Requirement already satisfied: setuptools>=18.5 in /home/ubuntu/anaconda3/lib/python3.6/site-packages (from ipython>=3.2.3->pyfolio) (41.4.0)\n",
      "Requirement already satisfied: jedi>=0.10 in /home/ubuntu/anaconda3/lib/python3.6/site-packages (from ipython>=3.2.3->pyfolio) (0.12.0)\n",
      "Collecting pandas-datareader>=0.2 (from empyrical>=0.5.0->pyfolio)\n",
      "  Using cached https://files.pythonhosted.org/packages/14/52/accb990baebe0063977f26e02df36aa7eb4015ed4e86f828cd76273cd6f1/pandas_datareader-0.8.1-py2.py3-none-any.whl\n",
      "Requirement already satisfied: python-dateutil>=2.5.0 in /home/ubuntu/anaconda3/lib/python3.6/site-packages (from pandas>=0.18.1->pyfolio) (2.7.3)\n",
      "Requirement already satisfied: joblib>=0.11 in /home/ubuntu/anaconda3/lib/python3.6/site-packages (from scikit-learn>=0.16.1->pyfolio) (0.13.2)\n",
      "Requirement already satisfied: kiwisolver>=1.0.1 in /home/ubuntu/anaconda3/lib/python3.6/site-packages (from matplotlib>=1.4.0->pyfolio) (1.0.1)\n",
      "Requirement already satisfied: pyparsing!=2.0.4,!=2.1.2,!=2.1.6,>=2.0.1 in /home/ubuntu/anaconda3/lib/python3.6/site-packages (from matplotlib>=1.4.0->pyfolio) (2.2.0)\n",
      "Requirement already satisfied: cycler>=0.10 in /home/ubuntu/anaconda3/lib/python3.6/site-packages (from matplotlib>=1.4.0->pyfolio) (0.10.0)\n",
      "Requirement already satisfied: ipython_genutils in /home/ubuntu/anaconda3/lib/python3.6/site-packages (from traitlets>=4.2->ipython>=3.2.3->pyfolio) (0.2.0)\n",
      "Requirement already satisfied: wcwidth in /home/ubuntu/anaconda3/lib/python3.6/site-packages (from prompt-toolkit<2.0.0,>=1.0.15->ipython>=3.2.3->pyfolio) (0.1.7)\n",
      "Requirement already satisfied: ptyprocess>=0.5 in /home/ubuntu/anaconda3/lib/python3.6/site-packages (from pexpect; sys_platform != \"win32\"->ipython>=3.2.3->pyfolio) (0.5.2)\n",
      "Requirement already satisfied: parso>=0.2.0 in /home/ubuntu/anaconda3/lib/python3.6/site-packages (from jedi>=0.10->ipython>=3.2.3->pyfolio) (0.2.0)\n",
      "Requirement already satisfied: lxml in /home/ubuntu/anaconda3/lib/python3.6/site-packages (from pandas-datareader>=0.2->empyrical>=0.5.0->pyfolio) (4.2.1)\n",
      "Requirement already satisfied: requests>=2.3.0 in /home/ubuntu/anaconda3/lib/python3.6/site-packages (from pandas-datareader>=0.2->empyrical>=0.5.0->pyfolio) (2.20.0)\n",
      "Requirement already satisfied: certifi>=2017.4.17 in /home/ubuntu/anaconda3/lib/python3.6/site-packages (from requests>=2.3.0->pandas-datareader>=0.2->empyrical>=0.5.0->pyfolio) (2019.9.11)\n",
      "Requirement already satisfied: chardet<3.1.0,>=3.0.2 in /home/ubuntu/anaconda3/lib/python3.6/site-packages (from requests>=2.3.0->pandas-datareader>=0.2->empyrical>=0.5.0->pyfolio) (3.0.4)\n",
      "Requirement already satisfied: idna<2.8,>=2.5 in /home/ubuntu/anaconda3/lib/python3.6/site-packages (from requests>=2.3.0->pandas-datareader>=0.2->empyrical>=0.5.0->pyfolio) (2.7)\n",
      "Requirement already satisfied: urllib3<1.25,>=1.21.1 in /home/ubuntu/anaconda3/lib/python3.6/site-packages (from requests>=2.3.0->pandas-datareader>=0.2->empyrical>=0.5.0->pyfolio) (1.23)\n",
      "Installing collected packages: pyarrow, pandas-datareader, empyrical, pyfolio, vowpalwabbit\n",
      "Successfully installed empyrical-0.5.3 pandas-datareader-0.8.1 pyarrow-0.15.1 pyfolio-0.9.2 vowpalwabbit-8.7.0.post1\n"
     ]
    }
   ],
   "source": [
    "!pip install pyarrow pyfolio vowpalwabbit"
   ]
  }
 ],
 "metadata": {
  "kernelspec": {
   "display_name": "Python 3",
   "language": "python",
   "name": "python3"
  },
  "language_info": {
   "codemirror_mode": {
    "name": "ipython",
    "version": 3
   },
   "file_extension": ".py",
   "mimetype": "text/x-python",
   "name": "python",
   "nbconvert_exporter": "python",
   "pygments_lexer": "ipython3",
   "version": "3.7.3"
  },
  "toc": {
   "nav_menu": {},
   "number_sections": true,
   "sideBar": true,
   "skip_h1_title": false,
   "toc_cell": true,
   "toc_position": {},
   "toc_section_display": "block",
   "toc_window_display": true
  }
 },
 "nbformat": 4,
 "nbformat_minor": 1
}
