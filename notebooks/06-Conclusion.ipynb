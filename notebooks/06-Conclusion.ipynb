{
 "cells": [
  {
   "cell_type": "markdown",
   "metadata": {
    "toc": true
   },
   "source": [
    "<h1>Table of Contents<span class=\"tocSkip\"></span></h1>\n",
    "<div class=\"toc\" style=\"margin-top: 1em;\"><ul class=\"toc-item\"><li><span><a href=\"#Introduction\" data-toc-modified-id=\"Introduction-1\"><span class=\"toc-item-num\">1&nbsp;&nbsp;</span>Introduction</a></span></li><li><span><a href=\"#Strategy-Description\" data-toc-modified-id=\"Strategy-Description-2\"><span class=\"toc-item-num\">2&nbsp;&nbsp;</span>Strategy Description</a></span><ul class=\"toc-item\"><li><span><a href=\"#Simple-Moving-Average-(SMA)\" data-toc-modified-id=\"Simple-Moving-Average-(SMA)-2.1\"><span class=\"toc-item-num\">2.1&nbsp;&nbsp;</span>Simple Moving Average (SMA)</a></span></li><li><span><a href=\"#Contextual-Bandits-(CB)\" data-toc-modified-id=\"Contextual-Bandits-(CB)-2.2\"><span class=\"toc-item-num\">2.2&nbsp;&nbsp;</span>Contextual Bandits (CB)</a></span></li></ul></li><li><span><a href=\"#Returns\" data-toc-modified-id=\"Returns-3\"><span class=\"toc-item-num\">3&nbsp;&nbsp;</span>Returns</a></span></li><li><span><a href=\"#Risks\" data-toc-modified-id=\"Risks-4\"><span class=\"toc-item-num\">4&nbsp;&nbsp;</span>Risks</a></span></li><li><span><a href=\"#Caveats\" data-toc-modified-id=\"Caveats-5\"><span class=\"toc-item-num\">5&nbsp;&nbsp;</span>Caveats</a></span></li><li><span><a href=\"#Future-Work\" data-toc-modified-id=\"Future-Work-6\"><span class=\"toc-item-num\">6&nbsp;&nbsp;</span>Future Work</a></span></li></ul></div>"
   ]
  },
  {
   "cell_type": "markdown",
   "metadata": {},
   "source": [
    "# Introduction"
   ]
  },
  {
   "cell_type": "markdown",
   "metadata": {},
   "source": [
    "This project has compared the performance of a trading strategy using a simple moving average crossover and a contextual bandits approach."
   ]
  },
  {
   "cell_type": "markdown",
   "metadata": {},
   "source": [
    "# Strategy Description"
   ]
  },
  {
   "cell_type": "markdown",
   "metadata": {},
   "source": [
    "## Simple Moving Average (SMA)"
   ]
  },
  {
   "cell_type": "markdown",
   "metadata": {},
   "source": [
    "The SMA strategy works as follows:\n",
    "1. Build a 10-day simple moving average of the closing price\n",
    "2. Build a 20-day simple moving average of the closing price\n",
    "3. Go long when the 10-day simple moving average is greater than 20-day simple moving average. Otherwsie, go short. "
   ]
  },
  {
   "cell_type": "markdown",
   "metadata": {},
   "source": [
    "## Contextual Bandits (CB)"
   ]
  },
  {
   "cell_type": "markdown",
   "metadata": {},
   "source": [
    "The CB strategy works as follows:\n",
    "\n",
    "1. Warmup the algoritm by traning on 5 days of closing price history.\n",
    "2. At the end of time $t$, predict if the return for time $t+1$ is going to be positive or negative by considering the returns for the past $5$ time periods. Go long or short at the start of $t+1$ as appropriate and update the model based on results at the end of $t+1$.\n",
    "3. Repeat step 2 for each timestep $t$."
   ]
  },
  {
   "cell_type": "markdown",
   "metadata": {},
   "source": [
    "# Returns"
   ]
  },
  {
   "cell_type": "markdown",
   "metadata": {},
   "source": [
    "The returns from the CB strategy is superior than SMA (annualized returns of 51.7% vs 41.6%).\n",
    "\n",
    "However, CB is sensitive to hyperparameter initialization. Repeating the evaluation process 50 times results in cumulative returns ranging from -71% to 1,200% with median of 172%. Only 16% of these trials resulted in negative cumulative returns. "
   ]
  },
  {
   "cell_type": "markdown",
   "metadata": {},
   "source": [
    "# Risks"
   ]
  },
  {
   "cell_type": "markdown",
   "metadata": {},
   "source": [
    "The max drawdown of CB and SMA are -52.9% and 68.2% respectively.\n",
    "\n",
    "CB has better Sortino and Calmar ratio relative to SMA (1.46 vs 1.31 and 0.98 vs 0.91).\n",
    "\n",
    "Therefore, CB offers better risk-adjusted returns than SMA."
   ]
  },
  {
   "cell_type": "markdown",
   "metadata": {},
   "source": [
    "# Caveats"
   ]
  },
  {
   "cell_type": "markdown",
   "metadata": {},
   "source": [
    "* The evaluation was done on the basis of closing historical prices. To get a better picture of the range of returns, it is recommended to evaluate the strategies using a trading simulator that takes into account transaction costs, spreads, liquidity, etc.\n",
    "\n",
    "* The evaluation assumes the purchase, sale and holding of 1 unit of security at any point in time. It does not incorporate any position sizing and risk management strategies. These factors can have a signinficant impact on the final risk-adjusted return of a strategy."
   ]
  },
  {
   "cell_type": "markdown",
   "metadata": {},
   "source": [
    "# Future Work"
   ]
  },
  {
   "cell_type": "markdown",
   "metadata": {},
   "source": [
    "The CB strategy only uses the last 5 period's returns to decide if the next day's return will be positive or negative. Human traders who trade based on price action almost always consider more features than this. Therefore, we can explore the effects of incorporating features like open, high, low, and volume changes over a longer time frame. These features can be fed directly to the model or be translated to some time-series embedding using some unsupervised pretraining technique."
   ]
  }
 ],
 "metadata": {
  "kernelspec": {
   "display_name": "Python 3",
   "language": "python",
   "name": "python3"
  },
  "language_info": {
   "codemirror_mode": {
    "name": "ipython",
    "version": 3
   },
   "file_extension": ".py",
   "mimetype": "text/x-python",
   "name": "python",
   "nbconvert_exporter": "python",
   "pygments_lexer": "ipython3",
   "version": "3.7.3"
  },
  "toc": {
   "nav_menu": {},
   "number_sections": true,
   "sideBar": true,
   "skip_h1_title": false,
   "toc_cell": true,
   "toc_position": {},
   "toc_section_display": "block",
   "toc_window_display": true
  }
 },
 "nbformat": 4,
 "nbformat_minor": 2
}
